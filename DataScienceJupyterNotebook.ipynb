{
  "metadata": {
    "kernelspec": {
      "name": "python",
      "display_name": "Pyolite",
      "language": "python"
    },
    "language_info": {
      "codemirror_mode": {
        "name": "python",
        "version": 3
      },
      "file_extension": ".py",
      "mimetype": "text/x-python",
      "name": "python",
      "nbconvert_exporter": "python",
      "pygments_lexer": "ipython3",
      "version": "3.8"
    }
  },
  "nbformat_minor": 4,
  "nbformat": 4,
  "cells": [
    {
      "cell_type": "markdown",
      "source": "<center>\n    <img src=\"https://s3-api.us-geo.objectstorage.softlayer.net/cf-courses-data/CognitiveClass/Logos/organization_logo/organization_logo.png\" width=\"300\" alt=\"cognitiveclass.ai logo\"  />\n</center>\n",
      "metadata": {}
    },
    {
      "cell_type": "markdown",
      "source": "#### Add your code below following the instructions given in the course\n",
      "metadata": {}
    },
    {
      "cell_type": "markdown",
      "source": "<h1>My Jupyter Notebook on IBM Watson Studio</h1>",
      "metadata": {}
    },
    {
      "cell_type": "markdown",
      "source": "<b>ILYAS SIDDUQUE</b>\nData Scientist for Market Data Analysis/Trends",
      "metadata": {}
    },
    {
      "cell_type": "markdown",
      "source": "<i>I am in Data Science because I love coding and analysing data. \nI want to build machine learning models that can make use of the Market Data to predict Markets. </i>",
      "metadata": {}
    },
    {
      "cell_type": "markdown",
      "source": "<h3>The code below is simple to print some number using python for loop</h3>",
      "metadata": {}
    },
    {
      "cell_type": "code",
      "source": "for i in range(10):\n    print(i)",
      "metadata": {
        "trusted": true
      },
      "execution_count": 1,
      "outputs": [
        {
          "name": "stdout",
          "text": "0\n1\n2\n3\n4\n5\n6\n7\n8\n9\n",
          "output_type": "stream"
        }
      ]
    },
    {
      "cell_type": "markdown",
      "source": "Adding some HTML markup\n<hr>\n<lu><li>1</li><li>2</li><li>3</li></lu>\nWant to do some Shopping Click <a href=\"https://www.amazon.com\">here</a><br><br>\nHere's a great image you would love to see <img src=\"https://developer.ibm.com/developer/default/blogs/ibm-announces-first-machine-learning-end-to-end-pipeline-starter-kit/images/cloud-garage.png\" alt=\"Cloud Native toolKit\">",
      "metadata": {}
    },
    {
      "cell_type": "code",
      "source": "",
      "metadata": {},
      "execution_count": null,
      "outputs": []
    }
  ]
}